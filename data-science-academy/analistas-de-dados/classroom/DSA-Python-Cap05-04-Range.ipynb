{
 "cells": [
  {
   "cell_type": "markdown",
   "id": "c40f0fd9",
   "metadata": {},
   "source": [
    "## Data Science Academy\n",
    "\n",
    "## Fundamentos de Linguaguem Python Para Análise de Dados e Data Science\n",
    "\n",
    "## Capítulo 5 - Intervalos de Valores"
   ]
  },
  {
   "cell_type": "code",
   "execution_count": null,
   "id": "8fbba96b",
   "metadata": {},
   "outputs": [],
   "source": [
    "# Versão da linguagem Python\n",
    "from platform import python_version\n",
    "print('Versão da linguagem Python Usada Neste Jupyter Notebook:', python_version())"
   ]
  },
  {
   "cell_type": "markdown",
   "id": "2e611a7e",
   "metadata": {},
   "source": [
    "## Função Range"
   ]
  },
  {
   "cell_type": "code",
   "execution_count": null,
   "id": "b634a61f",
   "metadata": {},
   "outputs": [],
   "source": [
    "# Imprimindo números de 1 a 10\n",
    "for i in range(1, 11):\n",
    "    print(i)"
   ]
  },
  {
   "cell_type": "code",
   "execution_count": null,
   "id": "4f0f6ef4",
   "metadata": {},
   "outputs": [],
   "source": [
    "# Imprimindo números pares entre 50 e 101.\n",
    "for i in range(50, 101, 2):\n",
    "    print(i)"
   ]
  },
  {
   "cell_type": "code",
   "execution_count": null,
   "id": "05a6b64e",
   "metadata": {},
   "outputs": [],
   "source": [
    "# Imprimindo números impares entre 50 e 101.\n",
    "for i in range(50, 101):\n",
    "    if i % 2 == 1:\n",
    "        print(i)"
   ]
  },
  {
   "cell_type": "code",
   "execution_count": null,
   "id": "9ded95e2",
   "metadata": {},
   "outputs": [],
   "source": [
    "# Imprimindo os números pares negativos entre 0 e -20\n",
    "for i in range(0, -21, -2):\n",
    "    print(i)\n"
   ]
  },
  {
   "cell_type": "code",
   "execution_count": null,
   "id": "40ee9ddb",
   "metadata": {},
   "outputs": [],
   "source": [
    "# Imprimindo os números impares negativos entre 0 e -20\n",
    "for i in range (0, -21, -1):\n",
    "    if i % 2 == 1:\n",
    "        print(i)"
   ]
  },
  {
   "cell_type": "code",
   "execution_count": null,
   "id": "ce161ac3",
   "metadata": {},
   "outputs": [],
   "source": [
    "# Usando o tamanho de uma lista na função range()\n",
    "lista = ['Abacaxi', 'Banana', 'Morango', 'Uva']\n",
    "lista_tamanho = len(lista)\n",
    "for i in range(0, lista_tamanho):\n",
    "    print(lista[i])"
   ]
  },
  {
   "cell_type": "code",
   "execution_count": null,
   "id": "e6fccb7f",
   "metadata": {},
   "outputs": [],
   "source": []
  }
 ],
 "metadata": {
  "kernelspec": {
   "display_name": "Python 3 (ipykernel)",
   "language": "python",
   "name": "python3"
  },
  "language_info": {
   "codemirror_mode": {
    "name": "ipython",
    "version": 3
   },
   "file_extension": ".py",
   "mimetype": "text/x-python",
   "name": "python",
   "nbconvert_exporter": "python",
   "pygments_lexer": "ipython3",
   "version": "3.11.5"
  }
 },
 "nbformat": 4,
 "nbformat_minor": 5
}
