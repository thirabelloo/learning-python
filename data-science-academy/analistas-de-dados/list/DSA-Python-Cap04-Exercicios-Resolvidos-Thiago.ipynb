{
 "cells": [
  {
   "cell_type": "markdown",
   "id": "20353d10",
   "metadata": {},
   "source": [
    "## Data Science Academy\n",
    "\n",
    "## Fundamentos de Linguagem Python Para Análise de Dados e Data Science\n",
    "\n",
    "## Capítulo 4 - Exercícios"
   ]
  },
  {
   "cell_type": "code",
   "execution_count": null,
   "id": "e057b8ff",
   "metadata": {},
   "outputs": [],
   "source": [
    "# Versão da Linguagem Python\n",
    "from platform import python_version\n",
    "print('Versão da linguagem Python Usada Neste Jupyter Notebook', python_version())"
   ]
  },
  {
   "cell_type": "markdown",
   "id": "7591b661",
   "metadata": {},
   "source": [
    "## Exercícios"
   ]
  },
  {
   "cell_type": "code",
   "execution_count": null,
   "id": "8222a8da",
   "metadata": {},
   "outputs": [],
   "source": [
    "# Exercício 1 - Imprima na tela os números de 1 a 10. Use uma lista para armazenar os números.\n",
    "lista = [1, 2, 3, 4, 5, 6, 7, 8, 9, 10]\n",
    "print(lista)"
   ]
  },
  {
   "cell_type": "code",
   "execution_count": null,
   "id": "4e4ddc73",
   "metadata": {},
   "outputs": [],
   "source": [
    "# Exercício 2 - Crie uma lista de 5 objetos e imprima na tela\n",
    "lista_strings = ['Arroz', 'feijão', 'salada', 'carne', 'batata']\n",
    "print(lista_strings)"
   ]
  },
  {
   "cell_type": "code",
   "execution_count": null,
   "id": "b74a9a19",
   "metadata": {},
   "outputs": [],
   "source": [
    "# Exercício 3 - Crie duas strings e concatene as duas em uma terceira string\n",
    "strings_test1 = 'ola'\n",
    "strings_test2 = 'mundo'\n",
    "string_final = strings_test1 + ' ' + strings_test2\n",
    "print(string_final)"
   ]
  },
  {
   "cell_type": "code",
   "execution_count": null,
   "id": "938800b4",
   "metadata": {},
   "outputs": [],
   "source": [
    "# Exercício 4 - Crie uma tupla com os seguintes elementos: 1, 2, 2, 3, 4, 4, 4, 5 e depois utilize a função count do \n",
    "# objeto tupla para verificar quantas vezes o número 4 aparece na tupla\n",
    "tupla_teste = (1, 2, 2, 3, 4, 4, 4, 5)\n",
    "tupla_teste.count(4)"
   ]
  },
  {
   "cell_type": "code",
   "execution_count": null,
   "id": "1abbba9e",
   "metadata": {},
   "outputs": [],
   "source": [
    "# Exercício 5 - Crie um dicionário vazio e imprima na tela\n",
    "dict_teste = {}\n",
    "print(dict_teste)"
   ]
  },
  {
   "cell_type": "code",
   "execution_count": null,
   "id": "48408ddf",
   "metadata": {},
   "outputs": [],
   "source": [
    "# Exercício 6 - Crie um dicionário com 3 chaves e 3 valores e imprima na tela\n",
    "dict_teste = {'Programação': 10, 'Quimica': 8, 'Pesquisa': 6}\n",
    "print(dict_teste)"
   ]
  },
  {
   "cell_type": "code",
   "execution_count": null,
   "id": "82f5f0a0",
   "metadata": {},
   "outputs": [],
   "source": [
    "# Exercício 7 - Adicione mais um elemento ao dicionário criado no exercício anterior e imprima na tela\n",
    "dict_teste = {'Programação': 10, 'Quimica': 8, 'Pesquisa': 6}\n",
    "dict_teste['Matemática'] = 7\n",
    "\n",
    "print(dict_teste)"
   ]
  },
  {
   "cell_type": "code",
   "execution_count": null,
   "id": "3b9abf34",
   "metadata": {},
   "outputs": [],
   "source": [
    "# Exercício 8 - Crie um dicionário com 3 chaves e 3 valores. \n",
    "# Um dos valores deve ser uma lista de 2 elementos numéricos. \n",
    "# Imprima o dicionário na tela.\n",
    "\n",
    "dict_test = {'Programação': 10, 'Quimica': 8, 'Pesquisa': [6, 4]}\n",
    "print(dict_test)\n"
   ]
  },
  {
   "cell_type": "code",
   "execution_count": null,
   "id": "164c721d",
   "metadata": {},
   "outputs": [],
   "source": [
    "# Exercício 9 - Crie uma lista de 4 elementos. O primeiro elemento deve ser uma string, \n",
    "# o segundo uma tupla de 2 elementos, o terceiro um dcionário com 2 chaves e 2 valores e \n",
    "# o quarto elemento um valor do tipo float.\n",
    "# Imprima a lista.\n",
    "\n",
    "lista_exercicio = ['Teste', ('Olá', \"mundo\"), {'Inglês': 10, 'Geografia': 4}, 12.1]\n",
    "print(lista_exercicio)\n"
   ]
  },
  {
   "cell_type": "code",
   "execution_count": null,
   "id": "ea07347a",
   "metadata": {},
   "outputs": [],
   "source": [
    "# Exercício 10 - Considere a string abaixo. Imprima na tela apenas os caracteres da posição 1 a 18.\n",
    "frase = 'Cientista de Dados é o profissional mais sexy do século XXI'\n",
    "frase_fatiada = frase[0:18]\n",
    "print(frase_fatiada)"
   ]
  },
  {
   "cell_type": "code",
   "execution_count": null,
   "id": "595ad4ae",
   "metadata": {},
   "outputs": [],
   "source": []
  }
 ],
 "metadata": {
  "kernelspec": {
   "display_name": "Python 3 (ipykernel)",
   "language": "python",
   "name": "python3"
  },
  "language_info": {
   "codemirror_mode": {
    "name": "ipython",
    "version": 3
   },
   "file_extension": ".py",
   "mimetype": "text/x-python",
   "name": "python",
   "nbconvert_exporter": "python",
   "pygments_lexer": "ipython3",
   "version": "3.11.5"
  }
 },
 "nbformat": 4,
 "nbformat_minor": 5
}
