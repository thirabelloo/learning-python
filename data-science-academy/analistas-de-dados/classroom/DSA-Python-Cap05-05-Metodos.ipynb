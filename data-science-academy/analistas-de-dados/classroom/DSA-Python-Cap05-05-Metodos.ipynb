{
 "cells": [
  {
   "cell_type": "markdown",
   "id": "29ee88de",
   "metadata": {},
   "source": [
    "## Data Science Academy\n",
    "## Fundamentos de Linguaguem Python Para Análise de Dados e Data Science\n",
    "### Capítulo 5 - Métodos"
   ]
  },
  {
   "cell_type": "code",
   "execution_count": null,
   "id": "6b50ca4a",
   "metadata": {},
   "outputs": [],
   "source": [
    "# Versão da Linguagem Python\n",
    "from platform import python_version\n",
    "print('A versão da linguagem python usada neste jupyter notebook:', python_version())"
   ]
  },
  {
   "cell_type": "markdown",
   "id": "e1c376c4",
   "metadata": {},
   "source": [
    "## Métodos\n",
    "\n",
    "Tudo em Python é objeto. E cada objeto tem métodos e atributos\n",
    "- Atributos são propriedades, características do objeto.\n",
    "- Métodos são funções com ações que podem ser executadas nos objetos.\n"
   ]
  },
  {
   "cell_type": "code",
   "execution_count": null,
   "id": "8c918612",
   "metadata": {},
   "outputs": [],
   "source": [
    "# Criando uma lista\n",
    "lista = [100, -2, 12, 65, 0]"
   ]
  },
  {
   "cell_type": "code",
   "execution_count": null,
   "id": "6f3a2232",
   "metadata": {},
   "outputs": [],
   "source": [
    "type(lista)"
   ]
  },
  {
   "cell_type": "code",
   "execution_count": null,
   "id": "4053082c",
   "metadata": {},
   "outputs": [],
   "source": [
    "# Verificando métodos e atributos\n",
    "lista"
   ]
  },
  {
   "cell_type": "code",
   "execution_count": null,
   "id": "200dea7e",
   "metadata": {},
   "outputs": [],
   "source": [
    "# Usando um método do objeto lista\n",
    "lista.append(100)"
   ]
  },
  {
   "cell_type": "code",
   "execution_count": null,
   "id": "d724715f",
   "metadata": {},
   "outputs": [],
   "source": [
    "# Imprimindo a lista\n",
    "print(lista)"
   ]
  },
  {
   "cell_type": "code",
   "execution_count": null,
   "id": "f9f22061",
   "metadata": {},
   "outputs": [],
   "source": [
    "# Usando um método do objeto lista\n",
    "lista.count(100)"
   ]
  },
  {
   "cell_type": "code",
   "execution_count": null,
   "id": "a4d8e61f",
   "metadata": {},
   "outputs": [],
   "source": [
    "# A função help() explica como utilizar cada método de um objeto\n",
    "help(lista.count)"
   ]
  },
  {
   "cell_type": "code",
   "execution_count": null,
   "id": "04c49e05",
   "metadata": {},
   "outputs": [],
   "source": [
    "# A função dir() mostra todos os métodos e atributos de um objeto\n",
    "dir(lista)"
   ]
  },
  {
   "cell_type": "code",
   "execution_count": null,
   "id": "0269e6b6",
   "metadata": {},
   "outputs": [],
   "source": [
    "frase = 'Isso é uma string'"
   ]
  },
  {
   "cell_type": "code",
   "execution_count": null,
   "id": "77735bd3",
   "metadata": {},
   "outputs": [],
   "source": [
    "type(frase)"
   ]
  },
  {
   "cell_type": "code",
   "execution_count": null,
   "id": "ab303158",
   "metadata": {},
   "outputs": [],
   "source": [
    "# Verificando métodos e atributos\n",
    "frase"
   ]
  },
  {
   "cell_type": "code",
   "execution_count": null,
   "id": "bf52e1c1",
   "metadata": {},
   "outputs": [],
   "source": [
    "# O método de um objeto pode ser chamado dentro de uma função, como print()\n",
    "print(frase.split())"
   ]
  },
  {
   "cell_type": "code",
   "execution_count": null,
   "id": "f4612420",
   "metadata": {},
   "outputs": [],
   "source": []
  }
 ],
 "metadata": {
  "kernelspec": {
   "display_name": "Python 3 (ipykernel)",
   "language": "python",
   "name": "python3"
  },
  "language_info": {
   "codemirror_mode": {
    "name": "ipython",
    "version": 3
   },
   "file_extension": ".py",
   "mimetype": "text/x-python",
   "name": "python",
   "nbconvert_exporter": "python",
   "pygments_lexer": "ipython3",
   "version": "3.11.5"
  }
 },
 "nbformat": 4,
 "nbformat_minor": 5
}
