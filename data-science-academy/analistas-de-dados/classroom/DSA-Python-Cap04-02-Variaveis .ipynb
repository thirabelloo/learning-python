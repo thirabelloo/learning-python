{
 "cells": [
  {
   "cell_type": "markdown",
   "id": "9395f7f9",
   "metadata": {},
   "source": [
    "# Data Science Academy\n",
    "## Fundamentos de linguagem Python Para Análise de Dados e Data Science¶\n",
    "## Capítulo 4 - Variáveis e Operadores"
   ]
  },
  {
   "cell_type": "code",
   "execution_count": null,
   "id": "2aa7a4cc",
   "metadata": {},
   "outputs": [],
   "source": [
    "# Versão da Linguagem Python\n",
    "from platform import python_version\n",
    "print('Versão da Linguagem Python Usada Neste Jupyter Notebook:', python_version())"
   ]
  },
  {
   "cell_type": "markdown",
   "id": "98ac1dd2",
   "metadata": {},
   "source": [
    "## Trabalhando com Variáveis"
   ]
  },
  {
   "cell_type": "code",
   "execution_count": null,
   "id": "2d6ba9d5",
   "metadata": {},
   "outputs": [],
   "source": [
    "# Atribuindo o valor 1 à variàvel var_testes\n",
    "var_teste = 1"
   ]
  },
  {
   "cell_type": "code",
   "execution_count": null,
   "id": "fb6ae188",
   "metadata": {},
   "outputs": [],
   "source": [
    "# Imprimindo o valor da variável\n",
    "var_teste"
   ]
  },
  {
   "cell_type": "code",
   "execution_count": null,
   "id": "e21b6815",
   "metadata": {},
   "outputs": [],
   "source": [
    "# Imprimindo o valor da variável\n",
    "print(var_teste)"
   ]
  },
  {
   "cell_type": "code",
   "execution_count": null,
   "id": "a28f1e90",
   "metadata": {},
   "outputs": [],
   "source": [
    "# Não podemos utilizar uma variável que não foi definida. Leia a mensagem de erro.\n",
    "my_var"
   ]
  },
  {
   "cell_type": "code",
   "execution_count": null,
   "id": "754cd882",
   "metadata": {},
   "outputs": [],
   "source": [
    "var_teste = 2"
   ]
  },
  {
   "cell_type": "code",
   "execution_count": null,
   "id": "88e9d8e5",
   "metadata": {},
   "outputs": [],
   "source": [
    "var_teste"
   ]
  },
  {
   "cell_type": "code",
   "execution_count": null,
   "id": "b43550c7",
   "metadata": {},
   "outputs": [],
   "source": [
    "type(var_teste)"
   ]
  },
  {
   "cell_type": "code",
   "execution_count": null,
   "id": "5a700016",
   "metadata": {},
   "outputs": [],
   "source": [
    "var_teste = 9.5"
   ]
  },
  {
   "cell_type": "code",
   "execution_count": null,
   "id": "f5476ed9",
   "metadata": {},
   "outputs": [],
   "source": [
    "type(var_teste)"
   ]
  },
  {
   "cell_type": "code",
   "execution_count": null,
   "id": "79bfc1de",
   "metadata": {},
   "outputs": [],
   "source": [
    "x = 1"
   ]
  },
  {
   "cell_type": "code",
   "execution_count": null,
   "id": "91081cf9",
   "metadata": {},
   "outputs": [],
   "source": [
    "x"
   ]
  },
  {
   "cell_type": "markdown",
   "id": "7b0851e6",
   "metadata": {},
   "source": [
    "## Declaração Múltipla"
   ]
  },
  {
   "cell_type": "code",
   "execution_count": null,
   "id": "86242fdb",
   "metadata": {},
   "outputs": [],
   "source": [
    "pessoa1, pessoa2, pessoa3 = 'Bob', 'Maria', 'Ana'"
   ]
  },
  {
   "cell_type": "code",
   "execution_count": null,
   "id": "f18f46ba",
   "metadata": {},
   "outputs": [],
   "source": [
    "pessoa1"
   ]
  },
  {
   "cell_type": "code",
   "execution_count": null,
   "id": "67789005",
   "metadata": {},
   "outputs": [],
   "source": [
    "pessoa2"
   ]
  },
  {
   "cell_type": "code",
   "execution_count": null,
   "id": "0ba3683b",
   "metadata": {},
   "outputs": [],
   "source": [
    "pessoa3"
   ]
  },
  {
   "cell_type": "code",
   "execution_count": null,
   "id": "b2062e23",
   "metadata": {},
   "outputs": [],
   "source": [
    "fruta1 = fruta2 = fruta3 = 'Melancia'"
   ]
  },
  {
   "cell_type": "code",
   "execution_count": null,
   "id": "e554a331",
   "metadata": {},
   "outputs": [],
   "source": [
    "fruta1"
   ]
  },
  {
   "cell_type": "code",
   "execution_count": null,
   "id": "de05300f",
   "metadata": {},
   "outputs": [],
   "source": [
    "fruta2"
   ]
  },
  {
   "cell_type": "code",
   "execution_count": null,
   "id": "b1eabced",
   "metadata": {},
   "outputs": [],
   "source": [
    "# Fique atento!!! Python é case-sensitive. Criamos a variável fruta2, mas não a variável Fruta2.\n",
    "# Letras maiúsculas e minúsculas tem diferença no nome da variável.\n",
    "Fruta2"
   ]
  },
  {
   "cell_type": "markdown",
   "id": "0d6ac291",
   "metadata": {},
   "source": [
    "### *Pode-se usar letras, números e underline em nome de variável (mas não se pode começar com números)*"
   ]
  },
  {
   "cell_type": "code",
   "execution_count": null,
   "id": "bffe029f",
   "metadata": {},
   "outputs": [],
   "source": [
    "x1 = 50"
   ]
  },
  {
   "cell_type": "code",
   "execution_count": null,
   "id": "ec41bd83",
   "metadata": {},
   "outputs": [],
   "source": [
    "x1"
   ]
  },
  {
   "cell_type": "code",
   "execution_count": null,
   "id": "8b5d1e03",
   "metadata": {},
   "outputs": [],
   "source": [
    "# Mensagem de erro, pois a linguagem Python não permite nomes de variáveis que iniciem com números.\n",
    "1x =50"
   ]
  },
  {
   "cell_type": "markdown",
   "id": "f24f62a1",
   "metadata": {},
   "source": [
    "### *Não se pode usar palavras reservadas como nome de varíavel\n",
    "- False\n",
    "- class\n",
    "- finaly\n",
    "- is\n",
    "- return\n",
    "- None\n",
    "- continue\n",
    "- for\n",
    "- lambda\n",
    "- try\n",
    "- True\n",
    "- def\n",
    "- from\n",
    "- nonlocal\n",
    "- while\n",
    "- and\n",
    "- del\n",
    "- global\n",
    "- not\n",
    "- with\n",
    "- as\n",
    "- elif\n",
    "- if\n",
    "- or\n",
    "- yield\n",
    "- assert\n",
    "- else\n",
    "- import\n",
    "- pass\n",
    "- break\n",
    "- except\n",
    "- in\n",
    "- raise\n",
    "\n"
   ]
  },
  {
   "cell_type": "code",
   "execution_count": null,
   "id": "adceaa6d",
   "metadata": {},
   "outputs": [],
   "source": [
    "# Não podemos usar palavras reservadas como nome de variável.\n",
    "break = 1"
   ]
  },
  {
   "cell_type": "markdown",
   "id": "a908ac22",
   "metadata": {},
   "source": [
    "## Variáveis Atribuídas a Outras Variáveis e Ordem dos Operadores"
   ]
  },
  {
   "cell_type": "code",
   "execution_count": null,
   "id": "8df42373",
   "metadata": {},
   "outputs": [],
   "source": [
    "largura = 2"
   ]
  },
  {
   "cell_type": "code",
   "execution_count": null,
   "id": "1217ef80",
   "metadata": {},
   "outputs": [],
   "source": [
    "altura = 4"
   ]
  },
  {
   "cell_type": "code",
   "execution_count": null,
   "id": "5317d321",
   "metadata": {},
   "outputs": [],
   "source": [
    "area = largura * altura"
   ]
  },
  {
   "cell_type": "code",
   "execution_count": null,
   "id": "8b98cc89",
   "metadata": {},
   "outputs": [],
   "source": [
    "area"
   ]
  },
  {
   "cell_type": "code",
   "execution_count": null,
   "id": "ff97755d",
   "metadata": {},
   "outputs": [],
   "source": [
    "perimetro = 2 * largura + 2 * altura"
   ]
  },
  {
   "cell_type": "code",
   "execution_count": null,
   "id": "0926067d",
   "metadata": {},
   "outputs": [],
   "source": [
    "perimetro"
   ]
  },
  {
   "cell_type": "code",
   "execution_count": null,
   "id": "206b576b",
   "metadata": {},
   "outputs": [],
   "source": [
    "# A ordem dos operadores é a mesma seguida na Matemática\n",
    "perimetro = 2 * (largura + 2) * altura"
   ]
  },
  {
   "cell_type": "code",
   "execution_count": null,
   "id": "4b6d4b59",
   "metadata": {},
   "outputs": [],
   "source": [
    "perimetro"
   ]
  },
  {
   "cell_type": "markdown",
   "id": "560687fd",
   "metadata": {},
   "source": [
    "## Operações com Variáveis"
   ]
  },
  {
   "cell_type": "code",
   "execution_count": null,
   "id": "f3a5b322",
   "metadata": {},
   "outputs": [],
   "source": [
    "idade1 = 25"
   ]
  },
  {
   "cell_type": "code",
   "execution_count": null,
   "id": "0d2cd432",
   "metadata": {},
   "outputs": [],
   "source": [
    "idade2 = 35"
   ]
  },
  {
   "cell_type": "code",
   "execution_count": null,
   "id": "3eede259",
   "metadata": {},
   "outputs": [],
   "source": [
    "idade1 + idade2"
   ]
  },
  {
   "cell_type": "code",
   "execution_count": null,
   "id": "c47080b5",
   "metadata": {},
   "outputs": [],
   "source": [
    "idade2 - idade1"
   ]
  },
  {
   "cell_type": "code",
   "execution_count": null,
   "id": "5f27db01",
   "metadata": {},
   "outputs": [],
   "source": [
    "idade2 * idade1"
   ]
  },
  {
   "cell_type": "code",
   "execution_count": null,
   "id": "235a1a18",
   "metadata": {},
   "outputs": [],
   "source": [
    "idade2 / idade1"
   ]
  },
  {
   "cell_type": "code",
   "execution_count": null,
   "id": "fbcd341c",
   "metadata": {},
   "outputs": [],
   "source": [
    "idade2 % idade1"
   ]
  },
  {
   "cell_type": "markdown",
   "id": "9a3573d6",
   "metadata": {},
   "source": [
    "## Concatenação de Variáveis"
   ]
  },
  {
   "cell_type": "code",
   "execution_count": null,
   "id": "0181576d",
   "metadata": {},
   "outputs": [],
   "source": [
    "nome = 'Bob'"
   ]
  },
  {
   "cell_type": "code",
   "execution_count": null,
   "id": "cd365bbf",
   "metadata": {},
   "outputs": [],
   "source": [
    "sobrenome = 'Marley'"
   ]
  },
  {
   "cell_type": "code",
   "execution_count": null,
   "id": "741e5134",
   "metadata": {},
   "outputs": [],
   "source": [
    "fullName = nome + ' ' + sobrenome"
   ]
  },
  {
   "cell_type": "code",
   "execution_count": null,
   "id": "79e42020",
   "metadata": {},
   "outputs": [],
   "source": [
    "fullName"
   ]
  }
 ],
 "metadata": {
  "kernelspec": {
   "display_name": "Python 3 (ipykernel)",
   "language": "python",
   "name": "python3"
  },
  "language_info": {
   "codemirror_mode": {
    "name": "ipython",
    "version": 3
   },
   "file_extension": ".py",
   "mimetype": "text/x-python",
   "name": "python",
   "nbconvert_exporter": "python",
   "pygments_lexer": "ipython3",
   "version": "3.11.5"
  }
 },
 "nbformat": 4,
 "nbformat_minor": 5
}
